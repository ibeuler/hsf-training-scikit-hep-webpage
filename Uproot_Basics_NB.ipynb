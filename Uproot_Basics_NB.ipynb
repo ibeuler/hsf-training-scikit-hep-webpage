{
  "nbformat": 4,
  "nbformat_minor": 0,
  "metadata": {
    "colab": {
      "provenance": []
    },
    "kernelspec": {
      "name": "python3",
      "display_name": "Python 3"
    },
    "language_info": {
      "name": "python"
    }
  },
  "cells": [
    {
      "cell_type": "code",
      "source": [
        "# requirments:\n",
        "\n",
        "\"\"\"\n",
        "aiohttp\n",
        "fastjet\n",
        "fsspec-xrootd\n",
        "lz4\n",
        "matplotlib\n",
        "nlopt\n",
        "numba\n",
        "numpy\n",
        "pandas\n",
        "scikit-hep\n",
        "scikit-hep-testdata\n",
        "zfit\n",
        "zstandard\n",
        "\"\"\""
      ],
      "metadata": {
        "id": "EUqXrU8f03x9"
      },
      "execution_count": null,
      "outputs": []
    },
    {
      "cell_type": "code",
      "source": [
        "!pip install uproot"
      ],
      "metadata": {
        "colab": {
          "base_uri": "https://localhost:8080/"
        },
        "id": "m4TcREJa_omT",
        "outputId": "5872c5f1-7585-422b-9725-2771025bbd6d"
      },
      "execution_count": null,
      "outputs": [
        {
          "output_type": "stream",
          "name": "stdout",
          "text": [
            "Requirement already satisfied: uproot in /usr/local/lib/python3.10/dist-packages (5.3.10)\n",
            "Requirement already satisfied: awkward>=2.4.6 in /usr/local/lib/python3.10/dist-packages (from uproot) (2.6.6)\n",
            "Requirement already satisfied: cramjam>=2.5.0 in /usr/local/lib/python3.10/dist-packages (from uproot) (2.8.3)\n",
            "Requirement already satisfied: fsspec in /usr/local/lib/python3.10/dist-packages (from uproot) (2024.6.1)\n",
            "Requirement already satisfied: numpy in /usr/local/lib/python3.10/dist-packages (from uproot) (1.25.2)\n",
            "Requirement already satisfied: packaging in /usr/local/lib/python3.10/dist-packages (from uproot) (24.1)\n",
            "Requirement already satisfied: typing-extensions>=4.1.0 in /usr/local/lib/python3.10/dist-packages (from uproot) (4.12.2)\n",
            "Requirement already satisfied: awkward-cpp==35 in /usr/local/lib/python3.10/dist-packages (from awkward>=2.4.6->uproot) (35)\n",
            "Requirement already satisfied: importlib-metadata>=4.13.0 in /usr/local/lib/python3.10/dist-packages (from awkward>=2.4.6->uproot) (8.1.0)\n",
            "Requirement already satisfied: zipp>=0.5 in /usr/local/lib/python3.10/dist-packages (from importlib-metadata>=4.13.0->awkward>=2.4.6->uproot) (3.19.2)\n",
            "ERROR: unknown command \"indtall\" - maybe you meant \"install\"\n"
          ]
        }
      ]
    },
    {
      "cell_type": "code",
      "source": [
        "!pip install scikit-hep"
      ],
      "metadata": {
        "colab": {
          "base_uri": "https://localhost:8080/"
        },
        "id": "cfAcQEUl0jHi",
        "outputId": "b8199ab9-c9fc-4af9-8cdb-693841556408"
      },
      "execution_count": null,
      "outputs": [
        {
          "output_type": "stream",
          "name": "stdout",
          "text": [
            "Collecting scikit-hep\n",
            "  Downloading scikit_hep-2024.6.2-py3-none-any.whl.metadata (5.5 kB)\n",
            "Requirement already satisfied: awkward~=2.6.0 in /usr/local/lib/python3.10/dist-packages (from scikit-hep) (2.6.6)\n",
            "Collecting decaylanguage~=0.18.0 (from scikit-hep)\n",
            "  Downloading decaylanguage-0.18.3-py3-none-any.whl.metadata (16 kB)\n",
            "Collecting hepstats~=0.8.0 (from scikit-hep)\n",
            "  Downloading hepstats-0.8.1-py3-none-any.whl.metadata (10 kB)\n",
            "Collecting hepunits~=2.3.0 (from scikit-hep)\n",
            "  Downloading hepunits-2.3.4-py3-none-any.whl.metadata (7.3 kB)\n",
            "Collecting hist~=2.7.0 (from scikit-hep)\n",
            "  Downloading hist-2.7.3-py3-none-any.whl.metadata (16 kB)\n",
            "Collecting histoprint~=2.4.0 (from scikit-hep)\n",
            "  Downloading histoprint-2.4.0-py3-none-any.whl.metadata (17 kB)\n",
            "Collecting iminuit~=2.26.0 (from scikit-hep)\n",
            "  Downloading iminuit-2.26.0-cp310-cp310-manylinux_2_17_x86_64.manylinux2014_x86_64.whl.metadata (11 kB)\n",
            "Requirement already satisfied: matplotlib>3.4.0 in /usr/local/lib/python3.10/dist-packages (from scikit-hep) (3.7.1)\n",
            "Collecting mplhep~=0.3.0 (from scikit-hep)\n",
            "  Downloading mplhep-0.3.50-py3-none-any.whl.metadata (10 kB)\n",
            "Requirement already satisfied: numpy>=1.13.1 in /usr/local/lib/python3.10/dist-packages (from scikit-hep) (1.25.2)\n",
            "Collecting particle~=0.24.0 (from scikit-hep)\n",
            "  Downloading particle-0.24.0-py3-none-any.whl.metadata (23 kB)\n",
            "Collecting pylhe~=0.8.0 (from scikit-hep)\n",
            "  Downloading pylhe-0.8.0-py3-none-any.whl.metadata (10 kB)\n",
            "Collecting resample~=1.10.0 (from scikit-hep)\n",
            "  Downloading resample-1.10.0-py3-none-any.whl.metadata (4.4 kB)\n",
            "Requirement already satisfied: uproot~=5.3.0 in /usr/local/lib/python3.10/dist-packages (from scikit-hep) (5.3.10)\n",
            "Collecting vector~=1.4.0 (from scikit-hep)\n",
            "  Downloading vector-1.4.1-py3-none-any.whl.metadata (43 kB)\n",
            "\u001b[2K     \u001b[90m━━━━━━━━━━━━━━━━━━━━━━━━━━━━━━━━━━━━━━━━\u001b[0m \u001b[32m43.7/43.7 kB\u001b[0m \u001b[31m1.5 MB/s\u001b[0m eta \u001b[36m0:00:00\u001b[0m\n",
            "\u001b[?25hRequirement already satisfied: awkward-cpp==35 in /usr/local/lib/python3.10/dist-packages (from awkward~=2.6.0->scikit-hep) (35)\n",
            "Requirement already satisfied: fsspec>=2022.11.0 in /usr/local/lib/python3.10/dist-packages (from awkward~=2.6.0->scikit-hep) (2024.6.1)\n",
            "Requirement already satisfied: importlib-metadata>=4.13.0 in /usr/local/lib/python3.10/dist-packages (from awkward~=2.6.0->scikit-hep) (8.1.0)\n",
            "Requirement already satisfied: packaging in /usr/local/lib/python3.10/dist-packages (from awkward~=2.6.0->scikit-hep) (24.1)\n",
            "Requirement already satisfied: typing-extensions>=4.1.0 in /usr/local/lib/python3.10/dist-packages (from awkward~=2.6.0->scikit-hep) (4.12.2)\n",
            "Requirement already satisfied: attrs>=19.2 in /usr/local/lib/python3.10/dist-packages (from decaylanguage~=0.18.0->scikit-hep) (23.2.0)\n",
            "Requirement already satisfied: graphviz>=0.12.0 in /usr/local/lib/python3.10/dist-packages (from decaylanguage~=0.18.0->scikit-hep) (0.20.3)\n",
            "Collecting lark>=1.0.0 (from decaylanguage~=0.18.0->scikit-hep)\n",
            "  Downloading lark-1.1.9-py3-none-any.whl.metadata (1.9 kB)\n",
            "Requirement already satisfied: pandas>=0.22 in /usr/local/lib/python3.10/dist-packages (from decaylanguage~=0.18.0->scikit-hep) (2.0.3)\n",
            "Collecting plumbum>=1.7.0 (from decaylanguage~=0.18.0->scikit-hep)\n",
            "  Downloading plumbum-1.8.3-py3-none-any.whl.metadata (10 kB)\n",
            "Collecting asdf (from hepstats~=0.8.0->scikit-hep)\n",
            "  Downloading asdf-3.3.0-py3-none-any.whl.metadata (14 kB)\n",
            "Requirement already satisfied: scipy in /usr/local/lib/python3.10/dist-packages (from hepstats~=0.8.0->scikit-hep) (1.13.1)\n",
            "Requirement already satisfied: tqdm in /usr/local/lib/python3.10/dist-packages (from hepstats~=0.8.0->scikit-hep) (4.66.4)\n",
            "Collecting uhi (from hepstats~=0.8.0->scikit-hep)\n",
            "  Downloading uhi-0.4.0-py3-none-any.whl.metadata (7.2 kB)\n",
            "Collecting boost-histogram<1.5,>=1.3.1 (from hist~=2.7.0->scikit-hep)\n",
            "  Downloading boost_histogram-1.4.1-cp310-cp310-manylinux_2_17_x86_64.manylinux2014_x86_64.whl.metadata (25 kB)\n",
            "Requirement already satisfied: click>=7.0.0 in /usr/local/lib/python3.10/dist-packages (from histoprint~=2.4.0->scikit-hep) (8.1.7)\n",
            "Requirement already satisfied: contourpy>=1.0.1 in /usr/local/lib/python3.10/dist-packages (from matplotlib>3.4.0->scikit-hep) (1.2.1)\n",
            "Requirement already satisfied: cycler>=0.10 in /usr/local/lib/python3.10/dist-packages (from matplotlib>3.4.0->scikit-hep) (0.12.1)\n",
            "Requirement already satisfied: fonttools>=4.22.0 in /usr/local/lib/python3.10/dist-packages (from matplotlib>3.4.0->scikit-hep) (4.53.1)\n",
            "Requirement already satisfied: kiwisolver>=1.0.1 in /usr/local/lib/python3.10/dist-packages (from matplotlib>3.4.0->scikit-hep) (1.4.5)\n",
            "Requirement already satisfied: pillow>=6.2.0 in /usr/local/lib/python3.10/dist-packages (from matplotlib>3.4.0->scikit-hep) (9.4.0)\n",
            "Requirement already satisfied: pyparsing>=2.3.1 in /usr/local/lib/python3.10/dist-packages (from matplotlib>3.4.0->scikit-hep) (3.1.2)\n",
            "Requirement already satisfied: python-dateutil>=2.7 in /usr/local/lib/python3.10/dist-packages (from matplotlib>3.4.0->scikit-hep) (2.8.2)\n",
            "Collecting mplhep-data (from mplhep~=0.3.0->scikit-hep)\n",
            "  Downloading mplhep_data-0.0.3-py3-none-any.whl.metadata (3.3 kB)\n",
            "Requirement already satisfied: cramjam>=2.5.0 in /usr/local/lib/python3.10/dist-packages (from uproot~=5.3.0->scikit-hep) (2.8.3)\n",
            "Requirement already satisfied: zipp>=0.5 in /usr/local/lib/python3.10/dist-packages (from importlib-metadata>=4.13.0->awkward~=2.6.0->scikit-hep) (3.19.2)\n",
            "Requirement already satisfied: pytz>=2020.1 in /usr/local/lib/python3.10/dist-packages (from pandas>=0.22->decaylanguage~=0.18.0->scikit-hep) (2024.1)\n",
            "Requirement already satisfied: tzdata>=2022.1 in /usr/local/lib/python3.10/dist-packages (from pandas>=0.22->decaylanguage~=0.18.0->scikit-hep) (2024.1)\n",
            "Requirement already satisfied: six>=1.5 in /usr/local/lib/python3.10/dist-packages (from python-dateutil>=2.7->matplotlib>3.4.0->scikit-hep) (1.16.0)\n",
            "Collecting asdf-standard>=1.1.0 (from asdf->hepstats~=0.8.0->scikit-hep)\n",
            "  Downloading asdf_standard-1.1.1-py3-none-any.whl.metadata (5.2 kB)\n",
            "Collecting asdf-transform-schemas>=0.3 (from asdf->hepstats~=0.8.0->scikit-hep)\n",
            "  Downloading asdf_transform_schemas-0.5.0-py3-none-any.whl.metadata (4.1 kB)\n",
            "Collecting jmespath>=0.6.2 (from asdf->hepstats~=0.8.0->scikit-hep)\n",
            "  Downloading jmespath-1.0.1-py3-none-any.whl.metadata (7.6 kB)\n",
            "Requirement already satisfied: pyyaml>=5.4.1 in /usr/local/lib/python3.10/dist-packages (from asdf->hepstats~=0.8.0->scikit-hep) (6.0.1)\n",
            "Collecting semantic-version>=2.8 (from asdf->hepstats~=0.8.0->scikit-hep)\n",
            "  Downloading semantic_version-2.10.0-py2.py3-none-any.whl.metadata (9.7 kB)\n",
            "Downloading scikit_hep-2024.6.2-py3-none-any.whl (22 kB)\n",
            "Downloading decaylanguage-0.18.3-py3-none-any.whl (251 kB)\n",
            "\u001b[2K   \u001b[90m━━━━━━━━━━━━━━━━━━━━━━━━━━━━━━━━━━━━━━━━\u001b[0m \u001b[32m251.6/251.6 kB\u001b[0m \u001b[31m3.4 MB/s\u001b[0m eta \u001b[36m0:00:00\u001b[0m\n",
            "\u001b[?25hDownloading hepstats-0.8.1-py3-none-any.whl (41 kB)\n",
            "\u001b[2K   \u001b[90m━━━━━━━━━━━━━━━━━━━━━━━━━━━━━━━━━━━━━━━━\u001b[0m \u001b[32m41.9/41.9 kB\u001b[0m \u001b[31m2.8 MB/s\u001b[0m eta \u001b[36m0:00:00\u001b[0m\n",
            "\u001b[?25hDownloading hepunits-2.3.4-py3-none-any.whl (14 kB)\n",
            "Downloading hist-2.7.3-py3-none-any.whl (40 kB)\n",
            "\u001b[2K   \u001b[90m━━━━━━━━━━━━━━━━━━━━━━━━━━━━━━━━━━━━━━━━\u001b[0m \u001b[32m40.6/40.6 kB\u001b[0m \u001b[31m3.1 MB/s\u001b[0m eta \u001b[36m0:00:00\u001b[0m\n",
            "\u001b[?25hDownloading histoprint-2.4.0-py3-none-any.whl (16 kB)\n",
            "Downloading iminuit-2.26.0-cp310-cp310-manylinux_2_17_x86_64.manylinux2014_x86_64.whl (427 kB)\n",
            "\u001b[2K   \u001b[90m━━━━━━━━━━━━━━━━━━━━━━━━━━━━━━━━━━━━━━━━\u001b[0m \u001b[32m427.4/427.4 kB\u001b[0m \u001b[31m8.0 MB/s\u001b[0m eta \u001b[36m0:00:00\u001b[0m\n",
            "\u001b[?25hDownloading mplhep-0.3.50-py3-none-any.whl (39 kB)\n",
            "Downloading particle-0.24.0-py3-none-any.whl (289 kB)\n",
            "\u001b[2K   \u001b[90m━━━━━━━━━━━━━━━━━━━━━━━━━━━━━━━━━━━━━━━━\u001b[0m \u001b[32m289.2/289.2 kB\u001b[0m \u001b[31m19.1 MB/s\u001b[0m eta \u001b[36m0:00:00\u001b[0m\n",
            "\u001b[?25hDownloading pylhe-0.8.0-py3-none-any.whl (12 kB)\n",
            "Downloading resample-1.10.0-py3-none-any.whl (20 kB)\n",
            "Downloading vector-1.4.1-py3-none-any.whl (182 kB)\n",
            "\u001b[2K   \u001b[90m━━━━━━━━━━━━━━━━━━━━━━━━━━━━━━━━━━━━━━━━\u001b[0m \u001b[32m182.6/182.6 kB\u001b[0m \u001b[31m15.6 MB/s\u001b[0m eta \u001b[36m0:00:00\u001b[0m\n",
            "\u001b[?25hDownloading boost_histogram-1.4.1-cp310-cp310-manylinux_2_17_x86_64.manylinux2014_x86_64.whl (1.6 MB)\n",
            "\u001b[2K   \u001b[90m━━━━━━━━━━━━━━━━━━━━━━━━━━━━━━━━━━━━━━━━\u001b[0m \u001b[32m1.6/1.6 MB\u001b[0m \u001b[31m23.8 MB/s\u001b[0m eta \u001b[36m0:00:00\u001b[0m\n",
            "\u001b[?25hDownloading lark-1.1.9-py3-none-any.whl (111 kB)\n",
            "\u001b[2K   \u001b[90m━━━━━━━━━━━━━━━━━━━━━━━━━━━━━━━━━━━━━━━━\u001b[0m \u001b[32m111.7/111.7 kB\u001b[0m \u001b[31m9.7 MB/s\u001b[0m eta \u001b[36m0:00:00\u001b[0m\n",
            "\u001b[?25hDownloading plumbum-1.8.3-py3-none-any.whl (127 kB)\n",
            "\u001b[2K   \u001b[90m━━━━━━━━━━━━━━━━━━━━━━━━━━━━━━━━━━━━━━━━\u001b[0m \u001b[32m127.6/127.6 kB\u001b[0m \u001b[31m10.3 MB/s\u001b[0m eta \u001b[36m0:00:00\u001b[0m\n",
            "\u001b[?25hDownloading uhi-0.4.0-py3-none-any.whl (11 kB)\n",
            "Downloading asdf-3.3.0-py3-none-any.whl (967 kB)\n",
            "\u001b[2K   \u001b[90m━━━━━━━━━━━━━━━━━━━━━━━━━━━━━━━━━━━━━━━━\u001b[0m \u001b[32m967.5/967.5 kB\u001b[0m \u001b[31m40.6 MB/s\u001b[0m eta \u001b[36m0:00:00\u001b[0m\n",
            "\u001b[?25hDownloading mplhep_data-0.0.3-py3-none-any.whl (5.8 MB)\n",
            "\u001b[2K   \u001b[90m━━━━━━━━━━━━━━━━━━━━━━━━━━━━━━━━━━━━━━━━\u001b[0m \u001b[32m5.8/5.8 MB\u001b[0m \u001b[31m57.1 MB/s\u001b[0m eta \u001b[36m0:00:00\u001b[0m\n",
            "\u001b[?25hDownloading asdf_standard-1.1.1-py3-none-any.whl (81 kB)\n",
            "\u001b[2K   \u001b[90m━━━━━━━━━━━━━━━━━━━━━━━━━━━━━━━━━━━━━━━━\u001b[0m \u001b[32m81.9/81.9 kB\u001b[0m \u001b[31m6.0 MB/s\u001b[0m eta \u001b[36m0:00:00\u001b[0m\n",
            "\u001b[?25hDownloading asdf_transform_schemas-0.5.0-py3-none-any.whl (275 kB)\n",
            "\u001b[2K   \u001b[90m━━━━━━━━━━━━━━━━━━━━━━━━━━━━━━━━━━━━━━━━\u001b[0m \u001b[32m275.4/275.4 kB\u001b[0m \u001b[31m18.4 MB/s\u001b[0m eta \u001b[36m0:00:00\u001b[0m\n",
            "\u001b[?25hDownloading jmespath-1.0.1-py3-none-any.whl (20 kB)\n",
            "Downloading semantic_version-2.10.0-py2.py3-none-any.whl (15 kB)\n",
            "Installing collected packages: vector, uhi, semantic-version, plumbum, mplhep-data, lark, jmespath, iminuit, hepunits, boost-histogram, asdf-standard, resample, particle, histoprint, asdf-transform-schemas, pylhe, mplhep, hist, decaylanguage, asdf, hepstats, scikit-hep\n",
            "Successfully installed asdf-3.3.0 asdf-standard-1.1.1 asdf-transform-schemas-0.5.0 boost-histogram-1.4.1 decaylanguage-0.18.3 hepstats-0.8.1 hepunits-2.3.4 hist-2.7.3 histoprint-2.4.0 iminuit-2.26.0 jmespath-1.0.1 lark-1.1.9 mplhep-0.3.50 mplhep-data-0.0.3 particle-0.24.0 plumbum-1.8.3 pylhe-0.8.0 resample-1.10.0 scikit-hep-2024.6.2 semantic-version-2.10.0 uhi-0.4.0 vector-1.4.1\n"
          ]
        }
      ]
    },
    {
      "cell_type": "code",
      "source": [
        "!pip install scikit-hep-testdata"
      ],
      "metadata": {
        "colab": {
          "base_uri": "https://localhost:8080/"
        },
        "id": "Qfity45L0sdW",
        "outputId": "d2502b75-6167-4507-c084-2b09a20d863d"
      },
      "execution_count": null,
      "outputs": [
        {
          "output_type": "stream",
          "name": "stdout",
          "text": [
            "Collecting scikit-hep-testdata\n",
            "  Downloading scikit_hep_testdata-0.4.46-py3-none-any.whl.metadata (14 kB)\n",
            "Requirement already satisfied: pyyaml in /usr/local/lib/python3.10/dist-packages (from scikit-hep-testdata) (6.0.1)\n",
            "Requirement already satisfied: requests in /usr/local/lib/python3.10/dist-packages (from scikit-hep-testdata) (2.31.0)\n",
            "Requirement already satisfied: charset-normalizer<4,>=2 in /usr/local/lib/python3.10/dist-packages (from requests->scikit-hep-testdata) (3.3.2)\n",
            "Requirement already satisfied: idna<4,>=2.5 in /usr/local/lib/python3.10/dist-packages (from requests->scikit-hep-testdata) (3.7)\n",
            "Requirement already satisfied: urllib3<3,>=1.21.1 in /usr/local/lib/python3.10/dist-packages (from requests->scikit-hep-testdata) (2.0.7)\n",
            "Requirement already satisfied: certifi>=2017.4.17 in /usr/local/lib/python3.10/dist-packages (from requests->scikit-hep-testdata) (2024.7.4)\n",
            "Downloading scikit_hep_testdata-0.4.46-py3-none-any.whl (12 kB)\n",
            "Installing collected packages: scikit-hep-testdata\n",
            "Successfully installed scikit-hep-testdata-0.4.46\n"
          ]
        }
      ]
    },
    {
      "cell_type": "code",
      "source": [
        "import uproot\n",
        "import numpy as np\n",
        "import skhep_testdata"
      ],
      "metadata": {
        "id": "CoVI_OVF_j9k"
      },
      "execution_count": null,
      "outputs": []
    },
    {
      "cell_type": "code",
      "source": [
        "filename = skhep_testdata.data_path(\n",
        "    \"uproot-Event.root\" )\n",
        "\n",
        "file = uproot.open(filename)\n",
        "file.keys()\n",
        "\n",
        "file.classnames()"
      ],
      "metadata": {
        "colab": {
          "base_uri": "https://localhost:8080/"
        },
        "id": "d12n00ro_n9z",
        "outputId": "ced6dd93-390d-4dec-f6bb-135531584dd6"
      },
      "execution_count": null,
      "outputs": [
        {
          "output_type": "execute_result",
          "data": {
            "text/plain": [
              "{'ProcessID0;1': 'TProcessID',\n",
              " 'htime;1': 'TH1F',\n",
              " 'T;1': 'TTree',\n",
              " 'hstat;1': 'TH1F'}"
            ]
          },
          "metadata": {},
          "execution_count": 10
        }
      ]
    },
    {
      "cell_type": "code",
      "source": [
        "h = file[\"hstat\"]\n",
        "h"
      ],
      "metadata": {
        "id": "wg0LtAfk_6CD",
        "colab": {
          "base_uri": "https://localhost:8080/"
        },
        "outputId": "f4972c12-621d-4ff4-9f88-a9798b455bba"
      },
      "execution_count": null,
      "outputs": [
        {
          "output_type": "execute_result",
          "data": {
            "text/plain": [
              "<TH1F (version 2) at 0x7d775e9738b0>"
            ]
          },
          "metadata": {},
          "execution_count": 11
        }
      ]
    },
    {
      "cell_type": "code",
      "source": [
        "h.to_hist()"
      ],
      "metadata": {
        "id": "oTePcM_p_7ED",
        "colab": {
          "base_uri": "https://localhost:8080/",
          "height": 150
        },
        "outputId": "6ee981c9-69af-4728-e2a1-a9a2306eeb82"
      },
      "execution_count": null,
      "outputs": [
        {
          "output_type": "execute_result",
          "data": {
            "text/plain": [
              "Hist(Regular(100, 0, 1, name='xaxis'), storage=Double()) # Sum: 1000.0"
            ],
            "text/html": [
              "<html>\n",
              "<div style=\"display:flex; align-items:center;\">\n",
              "<div style=\"width:290px;\">\n",
              "<svg xmlns=\"http://www.w3.org/2000/svg\" viewBox=\"-10 -105 270 120\">\n",
              "<line x1=\"-5\" y1=\"0\" x2=\"255\" y2=\"0\" style=\"fill:none;stroke-width:2;stroke:currentColor\"/>\n",
              "<text text-anchor=\"middle\" x=\"0\" y=\"15\" style=\"fill:currentColor;\">\n",
              "0\n",
              "</text>\n",
              "<text text-anchor=\"middle\" x=\"250\" y=\"15\" style=\"fill:currentColor;\">\n",
              "1\n",
              "</text>\n",
              "<text text-anchor=\"middle\" x=\"125.0\" y=\"15\" style=\"fill:currentColor;\">\n",
              "xaxis\n",
              "</text>\n",
              "<polyline points=\"  0,0   0,-77.8 2.5,-77.8 2.5,-100   5,-100   5,-77.8 7.5,-77.8 7.5,-61.1  10,-61.1  10,-83.3 12.5,-83.3 12.5,-72.2  15,-72.2  15,-66.7 17.5,-66.7 17.5,-72.2  20,-72.2  20,-44.4 22.5,-44.4 22.5,-44.4  25,-44.4  25,-50 27.5,-50 27.5,-55.6  30,-55.6  30,-55.6 32.5,-55.6 32.5,-38.9  35,-38.9  35,-44.4 37.5,-44.4 37.5,-55.6  40,-55.6  40,-44.4 42.5,-44.4 42.5,-66.7  45,-66.7  45,-33.3 47.5,-33.3 47.5,-44.4  50,-44.4  50,-38.9 52.5,-38.9 52.5,-50  55,-50  55,-55.6 57.5,-55.6 57.5,-66.7  60,-66.7  60,-55.6 62.5,-55.6 62.5,-61.1  65,-61.1  65,-55.6 67.5,-55.6 67.5,-55.6  70,-55.6  70,-55.6 72.5,-55.6 72.5,-44.4  75,-44.4  75,-77.8 77.5,-77.8 77.5,-72.2  80,-72.2  80,-50 82.5,-50 82.5,-38.9  85,-38.9  85,-66.7 87.5,-66.7 87.5,-55.6  90,-55.6  90,-38.9 92.5,-38.9 92.5,-33.3  95,-33.3  95,-50 97.5,-50 97.5,-72.2 100,-72.2 100,-61.1 102.5,-61.1 102.5,-44.4 105,-44.4 105,-55.6 107.5,-55.6 107.5,-50 110,-50 110,-38.9 112.5,-38.9 112.5,-22.2 115,-22.2 115,-38.9 117.5,-38.9 117.5,-55.6 120,-55.6 120,-44.4 122.5,-44.4 122.5,-44.4 125,-44.4 125,-50 127.5,-50 127.5,-50 130,-50 130,-38.9 132.5,-38.9 132.5,-66.7 135,-66.7 135,-61.1 137.5,-61.1 137.5,-50 140,-50 140,-55.6 142.5,-55.6 142.5,-38.9 145,-38.9 145,-55.6 147.5,-55.6 147.5,-72.2 150,-72.2 150,-72.2 152.5,-72.2 152.5,-61.1 155,-61.1 155,-50 157.5,-50 157.5,-50 160,-50 160,-44.4 162.5,-44.4 162.5,-44.4 165,-44.4 165,-55.6 167.5,-55.6 167.5,-66.7 170,-66.7 170,-38.9 172.5,-38.9 172.5,-27.8 175,-27.8 175,-50 177.5,-50 177.5,-55.6 180,-55.6 180,-66.7 182.5,-66.7 182.5,-72.2 185,-72.2 185,-55.6 187.5,-55.6 187.5,-77.8 190,-77.8 190,-55.6 192.5,-55.6 192.5,-55.6 195,-55.6 195,-44.4 197.5,-44.4 197.5,-66.7 200,-66.7 200,-66.7 202.5,-66.7 202.5,-61.1 205,-61.1 205,-88.9 207.5,-88.9 207.5,-66.7 210,-66.7 210,-44.4 212.5,-44.4 212.5,-66.7 215,-66.7 215,-38.9 217.5,-38.9 217.5,-50 220,-50 220,-50 222.5,-50 222.5,-38.9 225,-38.9 225,-55.6 227.5,-55.6 227.5,-38.9 230,-38.9 230,-61.1 232.5,-61.1 232.5,-61.1 235,-61.1 235,-44.4 237.5,-44.4 237.5,-72.2 240,-72.2 240,-50 242.5,-50 242.5,-44.4 245,-44.4 245,-77.8 247.5,-77.8 247.5,-88.9 250,-88.9 250,0\" style=\"fill:none; stroke:currentColor;\"/>\n",
              "</svg>\n",
              "</div>\n",
              "<div style=\"flex=grow:1;\">\n",
              "Regular(100, 0, 1, name='xaxis')<br/>\n",
              "<hr style=\"margin-top:.2em; margin-bottom:.2em;\"/>\n",
              "Double() Σ=1000.0\n",
              "\n",
              "</div>\n",
              "</div>\n",
              "</html>"
            ]
          },
          "metadata": {},
          "execution_count": 12
        }
      ]
    },
    {
      "cell_type": "code",
      "source": [
        "h.to_hist().plot()"
      ],
      "metadata": {
        "id": "O6gfM915AADr",
        "colab": {
          "base_uri": "https://localhost:8080/",
          "height": 485
        },
        "outputId": "7fb6a75f-ab60-43dc-9fc7-fe63fbbdd905"
      },
      "execution_count": null,
      "outputs": [
        {
          "output_type": "execute_result",
          "data": {
            "text/plain": [
              "[StairsArtists(stairs=<matplotlib.patches.StepPatch object at 0x7d7753673010>, errorbar=<ErrorbarContainer object of 3 artists>, legend_artist=<ErrorbarContainer object of 3 artists>)]"
            ]
          },
          "metadata": {},
          "execution_count": 13
        },
        {
          "output_type": "display_data",
          "data": {
            "text/plain": [
              "<Figure size 640x480 with 1 Axes>"
            ],
            "image/png": "[encoded data removed]"
          },
          "metadata": {}
        }
      ]
    },
    {
      "cell_type": "code",
      "source": [
        "h.values()"
      ],
      "metadata": {
        "id": "hVKg0W4rABx8",
        "colab": {
          "base_uri": "https://localhost:8080/"
        },
        "outputId": "a93762b1-3da6-4a91-c781-317d08dcc11a"
      },
      "execution_count": null,
      "outputs": [
        {
          "output_type": "execute_result",
          "data": {
            "text/plain": [
              "array([14., 18., 14., 11., 15., 13., 12., 13.,  8.,  8.,  9., 10., 10.,\n",
              "        7.,  8., 10.,  8., 12.,  6.,  8.,  7.,  9., 10., 12., 10., 11.,\n",
              "       10., 10., 10.,  8., 14., 13.,  9.,  7., 12., 10.,  7.,  6.,  9.,\n",
              "       13., 11.,  8., 10.,  9.,  7.,  4.,  7., 10.,  8.,  8.,  9.,  9.,\n",
              "        7., 12., 11.,  9., 10.,  7., 10., 13., 13., 11.,  9.,  9.,  8.,\n",
              "        8., 10., 12.,  7.,  5.,  9., 10., 12., 13., 10., 14., 10., 10.,\n",
              "        8., 12., 12., 11., 16., 12.,  8., 12.,  7.,  9.,  9.,  7., 10.,\n",
              "        7., 11., 11.,  8., 13.,  9.,  8., 14., 16.], dtype=float32)"
            ]
          },
          "metadata": {},
          "execution_count": 14
        }
      ]
    },
    {
      "cell_type": "code",
      "source": [
        "h.variances()"
      ],
      "metadata": {
        "id": "vdxhdi8EADAD",
        "colab": {
          "base_uri": "https://localhost:8080/"
        },
        "outputId": "07a53b58-63a0-4119-db4e-4ecb42595408"
      },
      "execution_count": null,
      "outputs": [
        {
          "output_type": "execute_result",
          "data": {
            "text/plain": [
              "array([14., 18., 14., 11., 15., 13., 12., 13.,  8.,  8.,  9., 10., 10.,\n",
              "        7.,  8., 10.,  8., 12.,  6.,  8.,  7.,  9., 10., 12., 10., 11.,\n",
              "       10., 10., 10.,  8., 14., 13.,  9.,  7., 12., 10.,  7.,  6.,  9.,\n",
              "       13., 11.,  8., 10.,  9.,  7.,  4.,  7., 10.,  8.,  8.,  9.,  9.,\n",
              "        7., 12., 11.,  9., 10.,  7., 10., 13., 13., 11.,  9.,  9.,  8.,\n",
              "        8., 10., 12.,  7.,  5.,  9., 10., 12., 13., 10., 14., 10., 10.,\n",
              "        8., 12., 12., 11., 16., 12.,  8., 12.,  7.,  9.,  9.,  7., 10.,\n",
              "        7., 11., 11.,  8., 13.,  9.,  8., 14., 16.])"
            ]
          },
          "metadata": {},
          "execution_count": 15
        }
      ]
    },
    {
      "cell_type": "code",
      "source": [
        "h.axis(\"x\").edges()"
      ],
      "metadata": {
        "id": "YrjeiX0JAE3V",
        "colab": {
          "base_uri": "https://localhost:8080/"
        },
        "outputId": "9db12bb5-f374-4219-80dc-4ac505866129"
      },
      "execution_count": null,
      "outputs": [
        {
          "output_type": "execute_result",
          "data": {
            "text/plain": [
              "array([0.  , 0.01, 0.02, 0.03, 0.04, 0.05, 0.06, 0.07, 0.08, 0.09, 0.1 ,\n",
              "       0.11, 0.12, 0.13, 0.14, 0.15, 0.16, 0.17, 0.18, 0.19, 0.2 , 0.21,\n",
              "       0.22, 0.23, 0.24, 0.25, 0.26, 0.27, 0.28, 0.29, 0.3 , 0.31, 0.32,\n",
              "       0.33, 0.34, 0.35, 0.36, 0.37, 0.38, 0.39, 0.4 , 0.41, 0.42, 0.43,\n",
              "       0.44, 0.45, 0.46, 0.47, 0.48, 0.49, 0.5 , 0.51, 0.52, 0.53, 0.54,\n",
              "       0.55, 0.56, 0.57, 0.58, 0.59, 0.6 , 0.61, 0.62, 0.63, 0.64, 0.65,\n",
              "       0.66, 0.67, 0.68, 0.69, 0.7 , 0.71, 0.72, 0.73, 0.74, 0.75, 0.76,\n",
              "       0.77, 0.78, 0.79, 0.8 , 0.81, 0.82, 0.83, 0.84, 0.85, 0.86, 0.87,\n",
              "       0.88, 0.89, 0.9 , 0.91, 0.92, 0.93, 0.94, 0.95, 0.96, 0.97, 0.98,\n",
              "       0.99, 1.  ])"
            ]
          },
          "metadata": {},
          "execution_count": 16
        }
      ]
    },
    {
      "cell_type": "code",
      "source": [
        "t = file[\"T\"]\n",
        "t.show()"
      ],
      "metadata": {
        "id": "GZT6QUyFAHo8",
        "colab": {
          "base_uri": "https://localhost:8080/"
        },
        "outputId": "164a5c1a-0298-4d62-f6bb-79bc8b50b6e5"
      },
      "execution_count": null,
      "outputs": [
        {
          "output_type": "stream",
          "name": "stdout",
          "text": [
            "name                 | typename                 | interpretation                \n",
            "---------------------+--------------------------+-------------------------------\n",
            "event                | Event                    | AsGroup(<TBranchElement 'ev...\n",
            "event/TObject        | (group of fUniqueID:u... | AsGroup(<TBranchElement 'TO...\n",
            "event/TObject/fUn... | uint32_t                 | AsDtype('>u4')\n",
            "event/TObject/fBits  | uint32_t                 | AsDtype('>u4')\n",
            "event/fType[20]      | int8_t[20]               | AsDtype(\"('i1', (20,))\")\n",
            "event/fEventName     | char*                    | AsStrings(length_bytes='4')\n",
            "event/fNtrack        | int32_t                  | AsDtype('>i4')\n",
            "event/fNseg          | int32_t                  | AsDtype('>i4')\n",
            "event/fNvertex       | uint32_t                 | AsDtype('>u4')\n",
            "event/fFlag          | uint32_t                 | AsDtype('>u4')\n",
            "event/fTemperature   | float                    | AsDtype('>f4', 'float64')\n",
            "event/fMeasures[10]  | int32_t[10]              | AsDtype(\"('>i4', (10,))\")\n",
            "event/fMatrix[4][4]  | float[4][4]              | AsDtype(\"('>f4', (4, 4))\", ...\n",
            "event/fClosestDis... | unknown[]                | AsObjects(AsArray(False, Tr...\n",
            "event/fEvtHdr        | EventHeader              | AsGroup(<TBranchElement 'fE...\n",
            "event/fEvtHdr/fEv... | int32_t                  | AsDtype('>i4')\n",
            "event/fEvtHdr/fEv... | int32_t                  | AsDtype('>i4')\n",
            "event/fEvtHdr/fEv... | int32_t                  | AsDtype('>i4')\n",
            "event/fTracks        | TClonesArray*            | AsGroup(<TBranchElement 'fT...\n",
            "event/fTracks/fTr... | uint32_t[]               | AsJagged(AsDtype('>u4'))\n",
            "event/fTracks/fTr... | uint32_t[]               | AsJagged(AsDtype('>u4'))\n",
            "event/fTracks/fTr... | float[]                  | AsJagged(AsDtype('>f4'))\n",
            "event/fTracks/fTr... | float[]                  | AsJagged(AsDtype('>f4'))\n",
            "event/fTracks/fTr... | float[]                  | AsJagged(AsDtype('>f4'))\n",
            "event/fTracks/fTr... | float[]                  | AsJagged(AsDtype('>f4'))\n",
            "event/fTracks/fTr... | Float16_t[]              | AsJagged(AsFloat16(0.0, 0.0...\n",
            "event/fTracks/fTr... | Float16_t[]              | AsJagged(AsFloat16(0.0, 0.0...\n",
            "event/fTracks/fTr... | Float16_t[]              | AsJagged(AsFloat16(0.0, 0.0...\n",
            "event/fTracks/fTr... | float[]                  | AsJagged(AsDtype('>f4'))\n",
            "event/fTracks/fTr... | Float16_t[]              | AsJagged(AsFloat16(0, 0, 12))\n",
            "event/fTracks/fTr... | Float16_t[]              | AsJagged(AsFloat16(0, 0, 12))\n",
            "event/fTracks/fTr... | Float16_t[]              | AsJagged(AsFloat16(0, 0, 12))\n",
            "event/fTracks/fTr... | Float16_t[]              | AsJagged(AsFloat16(0, 0, 12))\n",
            "event/fTracks/fTr... | Float16_t[]              | AsJagged(AsFloat16(0, 0, 12))\n",
            "event/fTracks/fTr... | Float16_t[]              | AsJagged(AsFloat16(0, 0, 12))\n",
            "event/fTracks/fTr... | Double32_t[]             | AsJagged(AsDouble32(-1.0, 1...\n",
            "event/fTracks/fTr... | Double32_t[][3]          | AsJagged(AsDouble32(-30.0, ...\n",
            "event/fTracks/fTr... | int32_t[]                | AsJagged(AsDtype('>i4'))\n",
            "event/fTracks/fTr... | int16_t[]                | AsJagged(AsDtype('>i2'))\n",
            "event/fTracks/fTr... | uint32_t[]               | AsJagged(AsDtype('>u4'))\n",
            "event/fTracks/fTr... | unknown[][]              | AsObjects(AsArray(True, Fal...\n",
            "event/fTracks/fTr... | uint32_t[]               | AsJagged(AsDtype('>u4'))\n",
            "event/fTracks/fTr... | uint32_t[]               | AsJagged(AsDtype('>u4'))\n",
            "event/fTracks/fTr... | uint32_t[]               | AsJagged(AsDtype('>u4'))\n",
            "event/fTracks/fTr... | uint32_t[]               | AsJagged(AsDtype('>u4'))\n",
            "event/fTracks/fTr... | uint8_t[][]              | AsObjects(AsArray(True, Fal...\n",
            "event/fTracks/fTr... | float[][3]               | AsJagged(AsDtype(\"('>f4', (...\n",
            "event/fHighPt        | TRefArray*               | AsObjects(AsPointer(Model_T...\n",
            "event/fMuons         | TRefArray*               | AsObjects(AsPointer(Model_T...\n",
            "event/fLastTrack     | TRef                     | AsStridedObjects(Model_TRef)\n",
            "event/fWebHistogram  | TRef                     | AsStridedObjects(Model_TRef)\n",
            "event/fH             | TH1F                     | AsObjects(Model_TH1F)\n",
            "event/fTriggerBits   | TBits                    | AsGroup(<TBranchElement 'fT...\n",
            "event/fTriggerBit... | (group of fTriggerBit... | AsGroup(<TBranchElement 'fT...\n",
            "event/fTriggerBit... | uint32_t                 | AsDtype('>u4')\n",
            "event/fTriggerBit... | uint32_t                 | AsDtype('>u4')\n",
            "event/fTriggerBit... | uint32_t                 | AsDtype('>u4')\n",
            "event/fTriggerBit... | uint32_t                 | AsDtype('>u4')\n",
            "event/fTriggerBit... | uint8_t[]                | AsJagged(AsDtype('uint8'), ...\n",
            "event/fIsValid       | bool                     | AsDtype('bool')\n"
          ]
        }
      ]
    },
    {
      "cell_type": "code",
      "source": [
        "t.keys()"
      ],
      "metadata": {
        "id": "scCZxDpIAJBz",
        "colab": {
          "base_uri": "https://localhost:8080/"
        },
        "outputId": "42be7b61-48e7-42dc-f633-62b36289b00b"
      },
      "execution_count": null,
      "outputs": [
        {
          "output_type": "execute_result",
          "data": {
            "text/plain": [
              "['event',\n",
              " 'event/TObject',\n",
              " 'event/TObject/fUniqueID',\n",
              " 'event/TObject/fBits',\n",
              " 'event/fType[20]',\n",
              " 'event/fEventName',\n",
              " 'event/fNtrack',\n",
              " 'event/fNseg',\n",
              " 'event/fNvertex',\n",
              " 'event/fFlag',\n",
              " 'event/fTemperature',\n",
              " 'event/fMeasures[10]',\n",
              " 'event/fMatrix[4][4]',\n",
              " 'event/fClosestDistance',\n",
              " 'event/fEvtHdr',\n",
              " 'event/fEvtHdr/fEvtHdr.fEvtNum',\n",
              " 'event/fEvtHdr/fEvtHdr.fRun',\n",
              " 'event/fEvtHdr/fEvtHdr.fDate',\n",
              " 'event/fTracks',\n",
              " 'event/fTracks/fTracks.fUniqueID',\n",
              " 'event/fTracks/fTracks.fBits',\n",
              " 'event/fTracks/fTracks.fPx',\n",
              " 'event/fTracks/fTracks.fPy',\n",
              " 'event/fTracks/fTracks.fPz',\n",
              " 'event/fTracks/fTracks.fRandom',\n",
              " 'event/fTracks/fTracks.fMass2',\n",
              " 'event/fTracks/fTracks.fBx',\n",
              " 'event/fTracks/fTracks.fBy',\n",
              " 'event/fTracks/fTracks.fMeanCharge',\n",
              " 'event/fTracks/fTracks.fXfirst',\n",
              " 'event/fTracks/fTracks.fXlast',\n",
              " 'event/fTracks/fTracks.fYfirst',\n",
              " 'event/fTracks/fTracks.fYlast',\n",
              " 'event/fTracks/fTracks.fZfirst',\n",
              " 'event/fTracks/fTracks.fZlast',\n",
              " 'event/fTracks/fTracks.fCharge',\n",
              " 'event/fTracks/fTracks.fVertex[3]',\n",
              " 'event/fTracks/fTracks.fNpoint',\n",
              " 'event/fTracks/fTracks.fValid',\n",
              " 'event/fTracks/fTracks.fNsp',\n",
              " 'event/fTracks/fTracks.fPointValue',\n",
              " 'event/fTracks/fTracks.fTriggerBits.fUniqueID',\n",
              " 'event/fTracks/fTracks.fTriggerBits.fBits',\n",
              " 'event/fTracks/fTracks.fTriggerBits.fNbits',\n",
              " 'event/fTracks/fTracks.fTriggerBits.fNbytes',\n",
              " 'event/fTracks/fTracks.fTriggerBits.fAllBits',\n",
              " 'event/fTracks/fTracks.fTArray[3]',\n",
              " 'event/fHighPt',\n",
              " 'event/fMuons',\n",
              " 'event/fLastTrack',\n",
              " 'event/fWebHistogram',\n",
              " 'event/fH',\n",
              " 'event/fTriggerBits',\n",
              " 'event/fTriggerBits/fTriggerBits.TObject',\n",
              " 'event/fTriggerBits/fTriggerBits.TObject/fTriggerBits.fUniqueID',\n",
              " 'event/fTriggerBits/fTriggerBits.TObject/fTriggerBits.fBits',\n",
              " 'event/fTriggerBits/fTriggerBits.fNbits',\n",
              " 'event/fTriggerBits/fTriggerBits.fNbytes',\n",
              " 'event/fTriggerBits/fTriggerBits.fAllBits',\n",
              " 'event/fIsValid']"
            ]
          },
          "metadata": {},
          "execution_count": 18
        }
      ]
    },
    {
      "cell_type": "code",
      "source": [
        "t[\"event/fNtrack\"]"
      ],
      "metadata": {
        "id": "pBSU-tmaALIT",
        "colab": {
          "base_uri": "https://localhost:8080/"
        },
        "outputId": "4983b301-23fe-4609-f7fa-4c76d6c3cf81"
      },
      "execution_count": null,
      "outputs": [
        {
          "output_type": "execute_result",
          "data": {
            "text/plain": [
              "<TBranchElement 'fNtrack' at 0x7d77496ccee0>"
            ]
          },
          "metadata": {},
          "execution_count": 19
        }
      ]
    },
    {
      "cell_type": "code",
      "source": [
        "t[\"event/fNtrack\"].typename"
      ],
      "metadata": {
        "id": "M1XzhjSIAMjj",
        "colab": {
          "base_uri": "https://localhost:8080/",
          "height": 36
        },
        "outputId": "2157c736-3c55-44cd-f456-43abd5203fce"
      },
      "execution_count": null,
      "outputs": [
        {
          "output_type": "execute_result",
          "data": {
            "text/plain": [
              "'int32_t'"
            ],
            "application/vnd.google.colaboratory.intrinsic+json": {
              "type": "string"
            }
          },
          "metadata": {},
          "execution_count": 20
        }
      ]
    },
    {
      "cell_type": "code",
      "source": [
        "t[\"event/fNtrack\"].interpretation"
      ],
      "metadata": {
        "id": "0RuvH1NCANpU",
        "colab": {
          "base_uri": "https://localhost:8080/"
        },
        "outputId": "826afcfb-7146-42bd-b644-34029050bc04"
      },
      "execution_count": null,
      "outputs": [
        {
          "output_type": "execute_result",
          "data": {
            "text/plain": [
              "AsDtype('>i4')"
            ]
          },
          "metadata": {},
          "execution_count": 21
        }
      ]
    },
    {
      "cell_type": "code",
      "source": [
        "t[\"event/fNtrack\"].array()"
      ],
      "metadata": {
        "id": "j_VjxEaWAOjL",
        "colab": {
          "base_uri": "https://localhost:8080/",
          "height": 399
        },
        "outputId": "63dbeac7-748f-43b6-c9b5-f6e7d69f0e0d"
      },
      "execution_count": null,
      "outputs": [
        {
          "output_type": "execute_result",
          "data": {
            "text/html": [
              "<pre>[600,\n",
              " 604,\n",
              " 603,\n",
              " 594,\n",
              " 595,\n",
              " 598,\n",
              " 595,\n",
              " 600,\n",
              " 592,\n",
              " 598,\n",
              " ...,\n",
              " 603,\n",
              " 605,\n",
              " 609,\n",
              " 599,\n",
              " 587,\n",
              " 598,\n",
              " 600,\n",
              " 596,\n",
              " 593]\n",
              "------------------\n",
              "type: 1000 * int32</pre>"
            ],
            "text/plain": [
              "<Array [600, 604, 603, 594, 595, ..., 598, 600, 596, 593] type='1000 * int32'>"
            ]
          },
          "metadata": {},
          "execution_count": 22
        }
      ]
    },
    {
      "cell_type": "code",
      "source": [
        "file[\"ProcessID0\"]"
      ],
      "metadata": {
        "id": "Q1tbAh0rAUX8",
        "colab": {
          "base_uri": "https://localhost:8080/"
        },
        "outputId": "7ed05801-b5ae-4054-d0f9-eacbc9cd9428"
      },
      "execution_count": null,
      "outputs": [
        {
          "output_type": "execute_result",
          "data": {
            "text/plain": [
              "<TProcessID (version 1) at 0x7d7743c73fd0>"
            ]
          },
          "metadata": {},
          "execution_count": 23
        }
      ]
    },
    {
      "cell_type": "code",
      "source": [
        "file[\"ProcessID0\"].all_members"
      ],
      "metadata": {
        "id": "CAxV_t7pASbU",
        "colab": {
          "base_uri": "https://localhost:8080/"
        },
        "outputId": "34f28834-a2c1-4a92-c874-7e15d83e9b7c"
      },
      "execution_count": null,
      "outputs": [
        {
          "output_type": "execute_result",
          "data": {
            "text/plain": [
              "{'@fUniqueID': 0,\n",
              " '@fBits': 50331648,\n",
              " 'fName': 'ProcessID0',\n",
              " 'fTitle': '3ec87674-3aa2-11e9-bb02-0301a8c0beef'}"
            ]
          },
          "metadata": {},
          "execution_count": 24
        }
      ]
    },
    {
      "cell_type": "code",
      "source": [
        "icecube = uproot.open(skhep_testdata.data_path(\"uproot-issue283.root\"))\n",
        "icecube.classnames()"
      ],
      "metadata": {
        "id": "eRXiQ76MAXB0",
        "colab": {
          "base_uri": "https://localhost:8080/"
        },
        "outputId": "f89a7f4a-adb2-424a-8cfa-3633dd997645"
      },
      "execution_count": null,
      "outputs": [
        {
          "output_type": "execute_result",
          "data": {
            "text/plain": [
              "{'config;1': 'TDirectory',\n",
              " 'config/analysis;1': 'SN_Analysis_Configuration_t',\n",
              " 'config/detector;1': 'I3Eval_t',\n",
              " 'config/run;1': 'SN_File_t',\n",
              " 'sn_all;1': 'TTree',\n",
              " 'sn_gps;1': 'TTree',\n",
              " 'sn_range;1': 'TTree',\n",
              " 'sn_o2rout;1': 'TTree',\n",
              " 'sn_o2cand;1': 'TTree',\n",
              " 'sn_omwatch;1': 'TTree',\n",
              " 'sn_sigsim;1': 'TTree'}"
            ]
          },
          "metadata": {},
          "execution_count": 25
        }
      ]
    },
    {
      "cell_type": "code",
      "source": [
        "icecube[\"config/detector\"].all_members\n",
        "icecube[\"config/detector\"].all_members[\"ChannelIDMap\"]"
      ],
      "metadata": {
        "id": "SBdUkMXSAZ0L",
        "colab": {
          "base_uri": "https://localhost:8080/"
        },
        "outputId": "e0d138b3-c621-4d1c-92be-7caa9a88b398"
      },
      "execution_count": null,
      "outputs": [
        {
          "output_type": "execute_result",
          "data": {
            "text/plain": [
              "<STLMap {46612627560: 896, ..., 281410180683757: 2689} at 0x7d7743bf9090>"
            ]
          },
          "metadata": {},
          "execution_count": 26
        }
      ]
    },
    {
      "cell_type": "code",
      "source": [
        "output1 = uproot.recreate(\"completely-new-file.root\")\n",
        "\n",
        "\n",
        "output1[\"some_string\"] = \"This will be a TObjString.\"\n",
        "\n",
        "output1[\"some_histogram\"] = file[\"hstat\"]"
      ],
      "metadata": {
        "id": "MavCpCh_AcL0"
      },
      "execution_count": null,
      "outputs": []
    },
    {
      "cell_type": "code",
      "source": [
        "output1[\"nested_directory/another_histogram\"] = np.histogram(\n",
        "    np.random.normal(0, 1, 1000000)\n",
        ")"
      ],
      "metadata": {
        "id": "KULfpQJ3Aioz"
      },
      "execution_count": null,
      "outputs": []
    },
    {
      "cell_type": "code",
      "source": [
        "output1[\"tree1\"] = {\n",
        "    \"x\": np.random.randint(0, 10, 1000000),\n",
        "    \"y\": np.random.normal(0, 1, 1000000),\n",
        "}"
      ],
      "metadata": {
        "id": "Kkor_DwkAkBr"
      },
      "execution_count": null,
      "outputs": []
    },
    {
      "cell_type": "code",
      "source": [
        "output1[\"tree1\"].extend(\n",
        "    {\"x\": np.random.randint(0, 10, 1000000), \"y\": np.random.normal(0, 1, 1000000)}\n",
        ")"
      ],
      "metadata": {
        "id": "NSgUlGzgAlHD"
      },
      "execution_count": null,
      "outputs": []
    },
    {
      "cell_type": "code",
      "source": [
        "output1[\"tree1\"].extend(\n",
        "    {\"x\": np.random.randint(0, 10, 1000000), \"y\": np.random.normal(0, 1, 1000000)}\n",
        ")\n",
        "output1.mktree(\"tree2\", {\"x\": np.int32, \"y\": np.float64})\n",
        "output1[\"tree2\"].extend(\n",
        "    {\"x\": np.random.randint(0, 10, 1000000), \"y\": np.random.normal(0, 1, 1000000)}\n",
        ")\n",
        "output1[\"tree2\"].extend(\n",
        "    {\"x\": np.random.randint(0, 10, 1000000), \"y\": np.random.normal(0, 1, 1000000)}\n",
        ")\n",
        "output1[\"tree2\"].extend(\n",
        "    {\"x\": np.random.randint(0, 10, 1000000), \"y\": np.random.normal(0, 1, 1000000)}\n",
        ")"
      ],
      "metadata": {
        "id": "Jc2dMHzxAmca"
      },
      "execution_count": null,
      "outputs": []
    },
    {
      "cell_type": "code",
      "source": [],
      "metadata": {
        "id": "WTyUM49l4Vbq"
      },
      "execution_count": null,
      "outputs": []
    }
  ]
}