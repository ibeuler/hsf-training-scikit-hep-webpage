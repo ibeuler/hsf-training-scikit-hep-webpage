{
 "cells": [
  {
   "cell_type": "code",
   "execution_count": null,
   "id": "97f3be3d",
   "metadata": {},
   "outputs": [],
   "source": [
    "!pip install --upgrade fsspec-xrootd"
   ]
  },
  {
   "cell_type": "code",
   "execution_count": null,
   "id": "0456d06e",
   "metadata": {},
   "outputs": [],
   "source": [
    "!pip install uproot "
   ]
  },
  {
   "cell_type": "code",
   "execution_count": null,
   "id": "31b8544b",
   "metadata": {},
   "outputs": [],
   "source": [
    "!pip install hist"
   ]
  },
  {
   "cell_type": "code",
   "execution_count": null,
   "id": "adeb1991",
   "metadata": {},
   "outputs": [],
   "source": [
    "!pip install --upgrade fsspec fsspec_xrootd"
   ]
  },
  {
   "cell_type": "code",
   "execution_count": null,
   "id": "35bff02f",
   "metadata": {},
   "outputs": [],
   "source": [
    "\n",
    "import numpy as np\n",
    "import hist\n",
    "import uproot"
   ]
  },
  {
   "cell_type": "code",
   "execution_count": null,
   "id": "c02cf9d9",
   "metadata": {},
   "outputs": [],
   "source": [
    "try:\n",
    "    from fsspec_xrootd import XRootDFileSystem\n",
    "    print(\"XRootDFileSystem imported successfully.\")\n",
    "except ImportError as e:\n",
    "    print(f\"Error importing XRootDFileSystem: {e}\")"
   ]
  },
  {
   "cell_type": "code",
   "execution_count": null,
   "id": "d885718c",
   "metadata": {
    "lines_to_next_cell": 2
   },
   "outputs": [],
   "source": [
    "!python -m pip install --upgrade pip setuptools"
   ]
  },
  {
   "cell_type": "code",
   "execution_count": null,
   "id": "1e5ccd65",
   "metadata": {},
   "outputs": [],
   "source": [
    "!pip install wheel"
   ]
  },
  {
   "cell_type": "code",
   "execution_count": null,
   "id": "84c88380",
   "metadata": {},
   "outputs": [],
   "source": [
    "!pip install XRootD"
   ]
  },
  {
   "cell_type": "code",
   "execution_count": null,
   "id": "9aa8dc40",
   "metadata": {},
   "outputs": [],
   "source": [
    "\n",
    "file = uproot.open(\n",
    "    \"root://eospublic.cern.ch//eos/opendata/cms/derived-data/AOD2NanoAODOutreachTool/Run2012BC_DoubleMuParked_Muons.root\"\n",
    ") # this is puled out from the internet\n",
    "\n",
    "file.classnames()"
   ]
  },
  {
   "cell_type": "code",
   "execution_count": null,
   "id": "e78d38c2",
   "metadata": {},
   "outputs": [],
   "source": [
    "\n",
    "tree = file[\"Events\"]\n",
    "tree.show()\n",
    "tree[\"nMuon\"].array()\n",
    "tree[\"Muon_pt\"].array(entry_start=1000, entry_stop=2000)\n",
    "muons = tree.arrays(\n",
    "    [\"Muon_pt\", \"Muon_eta\", \"Muon_phi\", \"Muon_mass\", \"Muon_charge\"], entry_stop=1000\n",
    ")\n",
    "\n",
    "muons[\"Muon_pt\"]\n",
    "muons[\"Muon_eta\"]\n",
    "muons[\"Muon_phi\"]  # and so on.\n",
    "tree.keys(filter_name=\"Muon_*\")"
   ]
  },
  {
   "cell_type": "code",
   "execution_count": null,
   "id": "7985a751",
   "metadata": {},
   "outputs": [],
   "source": [
    "tree.arrays(filter_name=\"Muon_*\", entry_stop=1000)"
   ]
  },
  {
   "cell_type": "code",
   "execution_count": null,
   "id": "1969f2bb",
   "metadata": {
    "lines_to_next_cell": 2
   },
   "outputs": [],
   "source": [
    "\n",
    "muons = tree.arrays(entry_stop=1000)\n",
    "cut = muons[\"nMuon\"] == 2\n",
    "\n",
    "pt0 = muons[\"Muon_pt\", cut, 0]\n",
    "pt1 = muons[\"Muon_pt\", cut, 1]\n",
    "eta0 = muons[\"Muon_eta\", cut, 0]\n",
    "eta1 = muons[\"Muon_eta\", cut, 1]\n",
    "phi0 = muons[\"Muon_phi\", cut, 0]\n",
    "phi1 = muons[\"Muon_phi\", cut, 1]"
   ]
  },
  {
   "cell_type": "code",
   "execution_count": null,
   "id": "9437d6bc",
   "metadata": {},
   "outputs": [],
   "source": [
    "\n",
    "\n",
    "mass = np.sqrt(2 * pt0 * pt1 * (np.cosh(eta0 - eta1) - np.cos(phi0 - phi1)))\n",
    "\n",
    "masshist = hist.Hist(hist.axis.Regular(120, 0, 120, label=\"mass [GeV]\"))\n",
    "masshist.fill(mass)\n",
    "masshist.plot()\n",
    "\n",
    "tree.keys(filter_name=[\"nMuon\", \"/Muon_(pt|eta|phi)/\"])"
   ]
  },
  {
   "cell_type": "code",
   "execution_count": null,
   "id": "ec0e85b2",
   "metadata": {},
   "outputs": [],
   "source": [
    "\n",
    "masshist = hist.Hist(hist.axis.Regular(120, 0, 120, label=\"mass [GeV]\"))\n",
    "\n",
    "for muons in tree.iterate(filter_name=[\"nMuon\", \"/Muon_(pt|eta|phi)/\"]):\n",
    "    cut = muons[\"nMuon\"] == 2\n",
    "    pt0 = muons[\"Muon_pt\", cut, 0]\n",
    "    pt1 = muons[\"Muon_pt\", cut, 1]\n",
    "    eta0 = muons[\"Muon_eta\", cut, 0]\n",
    "    eta1 = muons[\"Muon_eta\", cut, 1]\n",
    "    phi0 = muons[\"Muon_phi\", cut, 0]\n",
    "    phi1 = muons[\"Muon_phi\", cut, 1]\n",
    "    mass = np.sqrt(2 * pt0 * pt1 * (np.cosh(eta0 - eta1) - np.cos(phi0 - phi1)))\n",
    "    masshist.fill(mass)\n",
    "    print(masshist.sum() / tree.num_entries)\n",
    "\n",
    "masshist.plot()"
   ]
  },
  {
   "cell_type": "code",
   "execution_count": null,
   "id": "47b6ed31",
   "metadata": {},
   "outputs": [],
   "source": [
    "tree[\"nMuon\"].array(library=\"np\", entry_stop=1000)\n",
    "\n",
    "tree.arrays(library=\"np\", entry_stop=1000)\n",
    "\n",
    "tree.arrays(library=\"pd\", entry_stop=1000)\n",
    "cut = muons[\"nMuon\"] == 2\n",
    "\n",
    "pt0 = muons[\"Muon_pt\", cut, 0]"
   ]
  },
  {
   "cell_type": "code",
   "execution_count": null,
   "id": "c1594d77",
   "metadata": {},
   "outputs": [],
   "source": [
    "import awkward as ak"
   ]
  },
  {
   "cell_type": "code",
   "execution_count": null,
   "id": "7ab326a9",
   "metadata": {
    "lines_to_next_cell": 2
   },
   "outputs": [],
   "source": [
    "ak.Array([[0.0, 1.1, 2.2], [], [3.3, 4.4], [5.5], [6.6, 7.7, 8.8, 9.9]])\n",
    "array = ak.Array([[0.0, 1.1, 2.2], [], [3.3, 4.4], [5.5], [6.6, 7.7, 8.8, 9.9]])\n",
    "array.tolist()\n",
    "\n",
    "array"
   ]
  },
  {
   "cell_type": "code",
   "execution_count": null,
   "id": "2b372ab6",
   "metadata": {},
   "outputs": [],
   "source": [
    "print(array[[True, False, True, False, True],1])\n",
    "print(array[[2, 3, 3, 1]])\n",
    "\n",
    "print(ak.num(array))\n",
    "\n",
    "print(ak.num(array) > 0)\n",
    "\n",
    "print(array[ak.num(array) > 0, 0])\n",
    "array[ak.num(array) > 1, 1]\n",
    "cut = array * 10 % 2 == 0\n",
    "\n",
    "array[cut]"
   ]
  },
  {
   "cell_type": "code",
   "execution_count": null,
   "id": "e0d15f81",
   "metadata": {},
   "outputs": [],
   "source": [
    "file = uproot.open(\n",
    "    \"root://eospublic.cern.ch//eos/opendata/cms/derived-data/AOD2NanoAODOutreachTool/Run2012BC_DoubleMuParked_Muons.root\"\n",
    ")"
   ]
  },
  {
   "cell_type": "code",
   "execution_count": null,
   "id": "400cb531",
   "metadata": {},
   "outputs": [],
   "source": [
    "tree = file[\"Events\"]\n",
    "\n",
    "muon_pt = tree[\"Muon_pt\"].array(entry_stop=10)\n",
    "particle_cut = muon_pt > 20"
   ]
  },
  {
   "cell_type": "code",
   "execution_count": null,
   "id": "d5889731",
   "metadata": {},
   "outputs": [],
   "source": [
    "print(muon_pt[particle_cut])\n",
    "print(muon_pt)\n",
    "event_cut = ak.any(muon_pt > 20, axis=1)\n",
    "\n",
    "muon_pt[event_cut]\n",
    "cleaned = muon_pt[particle_cut]\n",
    "numbers = ak.Array([[1, 2, 3], [], [5, 7], [11]])\n",
    "letters = ak.Array([[\"a\", \"b\"], [\"c\"], [\"d\"], [\"e\", \"f\"]])"
   ]
  },
  {
   "cell_type": "code",
   "execution_count": null,
   "id": "cabb5c71",
   "metadata": {
    "lines_to_next_cell": 2
   },
   "outputs": [],
   "source": [
    "pairs = ak.cartesian((numbers, letters))\n",
    "pairs\n",
    "pairs[\"0\"]\n",
    "pairs[\"1\"]\n",
    "lefts, rights = ak.unzip(pairs)\n",
    "lefts"
   ]
  },
  {
   "cell_type": "code",
   "execution_count": null,
   "id": "91274f22",
   "metadata": {
    "lines_to_next_cell": 2
   },
   "outputs": [],
   "source": [
    "rights"
   ]
  },
  {
   "cell_type": "code",
   "execution_count": null,
   "id": "9ebbe12b",
   "metadata": {},
   "outputs": [],
   "source": [
    "pairs = ak.combinations(numbers, 2)\n",
    "print(pairs)\n",
    "\n",
    "lefts, rights = ak.unzip(pairs)\n",
    "lefts * rights  # they line up, so we can compute formulas"
   ]
  },
  {
   "cell_type": "code",
   "execution_count": null,
   "id": "f3ab6e0f",
   "metadata": {
    "lines_to_next_cell": 2
   },
   "outputs": [],
   "source": [
    "lefts"
   ]
  },
  {
   "cell_type": "code",
   "execution_count": null,
   "id": "e6b029c5",
   "metadata": {},
   "outputs": [],
   "source": [
    "rights"
   ]
  },
  {
   "cell_type": "code",
   "execution_count": null,
   "id": "8992159f",
   "metadata": {},
   "outputs": [],
   "source": [
    "pairs = ak.combinations(numbers, 2)\n",
    "print(pairs)\n",
    "\n",
    "lefts, rights = ak.unzip(pairs)\n",
    "lefts * rights  # they line up, so we can compute formulas"
   ]
  },
  {
   "cell_type": "code",
   "execution_count": null,
   "id": "64b7883d",
   "metadata": {},
   "outputs": [],
   "source": [
    "file = uproot.open(\n",
    "    \"root://eospublic.cern.ch//eos/opendata/cms/derived-data/AOD2NanoAODOutreachTool/Run2012BC_DoubleMuParked_Muons.root\"\n",
    ")"
   ]
  },
  {
   "cell_type": "code",
   "execution_count": null,
   "id": "0086c2ce",
   "metadata": {},
   "outputs": [],
   "source": [
    "tree = file[\"Events\"]\n",
    "\n",
    "arrays = tree.arrays(filter_name=\"/Muon_(pt|eta|phi|charge)/\", entry_stop=10000)\n",
    "\n",
    "muons = ak.zip(\n",
    "    {\n",
    "        \"pt\": arrays[\"Muon_pt\"],\n",
    "        \"eta\": arrays[\"Muon_eta\"],\n",
    "        \"phi\": arrays[\"Muon_phi\"],\n",
    "        \"charge\": arrays[\"Muon_charge\"],\n",
    "    }\n",
    ")"
   ]
  },
  {
   "cell_type": "code",
   "execution_count": null,
   "id": "37a82457",
   "metadata": {},
   "outputs": [],
   "source": [
    "arrays.type"
   ]
  },
  {
   "cell_type": "code",
   "execution_count": null,
   "id": "694e4bbe",
   "metadata": {},
   "outputs": [],
   "source": [
    "print(arrays[:5])\n",
    "print(muons[:5])"
   ]
  },
  {
   "cell_type": "code",
   "execution_count": null,
   "id": "3fd8b1bc",
   "metadata": {},
   "outputs": [],
   "source": [
    "pairs = ak.combinations(muons, 2)\n",
    "\n",
    "pairs.type\n",
    "mu1, mu2 = ak.unzip(pairs)\n",
    "\n",
    "mass = np.sqrt(\n",
    "    2 * mu1.pt * mu2.pt * (np.cosh(mu1.eta - mu2.eta) - np.cos(mu1.phi - mu2.phi))\n",
    ")\n",
    "mass"
   ]
  },
  {
   "cell_type": "code",
   "execution_count": null,
   "id": "202531b6",
   "metadata": {},
   "outputs": [],
   "source": [
    "hist.Hist(hist.axis.Regular(120, 0, 120, label=\"mass [GeV]\")).fill(\n",
    "    ak.ravel(mass)\n",
    ").plot()\n",
    "ak.max(mass, axis=1)"
   ]
  },
  {
   "cell_type": "code",
   "execution_count": null,
   "id": "1781090d",
   "metadata": {},
   "outputs": [],
   "source": [
    "ak.flatten(ak.max(mass, axis=1), axis=0)"
   ]
  },
  {
   "cell_type": "code",
   "execution_count": null,
   "id": "908f51c0",
   "metadata": {},
   "outputs": [],
   "source": [
    "ak.max(mass[ak.num(mass) > 0], axis=1)"
   ]
  },
  {
   "cell_type": "code",
   "execution_count": null,
   "id": "4ffd29b1",
   "metadata": {},
   "outputs": [],
   "source": [
    "\n",
    "import particle, hepunits\n",
    "import skhep_testdata\n",
    "import numpy as np\n",
    "import boost_histogram as bh\n",
    "import matplotlib.pyplot as plt\n",
    "import hist"
   ]
  },
  {
   "cell_type": "code",
   "execution_count": null,
   "id": "a07e7890",
   "metadata": {},
   "outputs": [],
   "source": [
    "zmass = particle.Particle.findall(\"Z0\")[0].mass / hepunits.GeV\n",
    "zmass"
   ]
  },
  {
   "cell_type": "code",
   "execution_count": null,
   "id": "07c65093",
   "metadata": {},
   "outputs": [],
   "source": [
    "tree = uproot.open(skhep_testdata.data_path(\"uproot-Zmumu.root\"))[\"events\"]\n",
    "\n",
    "np.histogram(tree[\"M\"].array())\n",
    "\n",
    "plt.hist(tree[\"M\"].array())"
   ]
  },
  {
   "cell_type": "code",
   "execution_count": null,
   "id": "7bdf7784",
   "metadata": {},
   "outputs": [],
   "source": [
    "h = hist.Hist(hist.axis.Regular(120, 60, 120, name=\"mass\"))\n",
    "\n",
    "h.fill(tree[\"M\"].array())\n",
    "\n",
    "h.plot()"
   ]
  },
  {
   "cell_type": "code",
   "execution_count": null,
   "id": "52610202",
   "metadata": {},
   "outputs": [],
   "source": [
    "h[10:110].plot()"
   ]
  },
  {
   "cell_type": "code",
   "execution_count": null,
   "id": "78ea4ad9",
   "metadata": {},
   "outputs": [],
   "source": [
    "h[hist.loc(90) :].plot()"
   ]
  },
  {
   "cell_type": "code",
   "execution_count": null,
   "id": "b7c8b33c",
   "metadata": {},
   "outputs": [],
   "source": [
    "h[:: hist.rebin(2)].plot()"
   ]
  },
  {
   "cell_type": "code",
   "execution_count": null,
   "id": "21eb9a40",
   "metadata": {},
   "outputs": [],
   "source": [
    "h[hist.loc(80) : hist.loc(100) : sum]"
   ]
  },
  {
   "cell_type": "code",
   "execution_count": null,
   "id": "ef9c8542",
   "metadata": {},
   "outputs": [],
   "source": [
    "!pip install requests"
   ]
  },
  {
   "cell_type": "code",
   "execution_count": null,
   "id": "a48012e6",
   "metadata": {},
   "outputs": [],
   "source": [
    "!pip install aiohttp"
   ]
  },
  {
   "cell_type": "code",
   "execution_count": null,
   "id": "c9d77626",
   "metadata": {},
   "outputs": [],
   "source": [
    "import uproot\n",
    "import hist\n",
    "import awkward as ak"
   ]
  },
  {
   "cell_type": "code",
   "execution_count": null,
   "id": "8dc7a510",
   "metadata": {},
   "outputs": [],
   "source": [
    "picodst = uproot.open(\n",
    "    \"https://pivarski-princeton.s3.amazonaws.com/pythia_ppZee_run17emb.picoDst.root:PicoDst\"\n",
    ")\n",
    "\n",
    "vertexhist = hist.Hist(\n",
    "    hist.axis.Regular(600, -1, 1, label=\"x\"),\n",
    "    hist.axis.Regular(600, -1, 1, label=\"y\"),\n",
    "    hist.axis.Regular(40, -200, 200, label=\"z\"),\n",
    ")\n",
    "\n",
    "vertex_data = picodst.arrays(filter_name=\"*mPrimaryVertex[XYZ]\")\n",
    "\n",
    "vertexhist.fill(\n",
    "    ak.flatten(vertex_data[\"Event.mPrimaryVertexX\"]),\n",
    "    ak.flatten(vertex_data[\"Event.mPrimaryVertexY\"]),\n",
    "    ak.flatten(vertex_data[\"Event.mPrimaryVertexZ\"]),\n",
    ")"
   ]
  },
  {
   "cell_type": "code",
   "execution_count": null,
   "id": "d61bfe3a",
   "metadata": {},
   "outputs": [],
   "source": [
    "vertexhist[:, :, sum].plot2d_full()"
   ]
  },
  {
   "cell_type": "code",
   "execution_count": null,
   "id": "9323e958",
   "metadata": {},
   "outputs": [],
   "source": [
    "vertexhist[\n",
    "    hist.loc(-0.25) : hist.loc(0.25), hist.loc(-0.25) : hist.loc(0.25), sum\n",
    "].plot2d_full()"
   ]
  },
  {
   "cell_type": "code",
   "execution_count": null,
   "id": "444bddf4",
   "metadata": {},
   "outputs": [],
   "source": [
    "vertexhist[sum, sum, :].plot()"
   ]
  },
  {
   "cell_type": "code",
   "execution_count": null,
   "id": "f1dd34c0",
   "metadata": {},
   "outputs": [],
   "source": [
    "vertexhist[\n",
    "    hist.loc(-0.25) : hist.loc(0.25) : sum, hist.loc(-0.25) : hist.loc(0.25) : sum, :\n",
    "].plot()"
   ]
  },
  {
   "cell_type": "code",
   "execution_count": null,
   "id": "5d56c35f",
   "metadata": {},
   "outputs": [],
   "source": [
    "import numpy as np\n",
    "import iminuit.cost"
   ]
  },
  {
   "cell_type": "code",
   "execution_count": null,
   "id": "81bf38b6",
   "metadata": {},
   "outputs": [],
   "source": [
    "norm = len(h.axes[0].widths) / (h.axes[0].edges[-1] - h.axes[0].edges[0]) / h.sum()\n",
    "\n",
    "\n",
    "def f(x, background, mu, gamma):\n",
    "    return (\n",
    "        background\n",
    "        + (1 - background) * gamma**2 / ((x - mu) ** 2 + gamma**2) / np.pi / gamma\n",
    "    )\n",
    "\n",
    "\n",
    "loss = iminuit.cost.LeastSquares(\n",
    "    h.axes[0].centers, h.values() * norm, np.sqrt(h.variances()) * norm, f\n",
    ")\n",
    "loss.mask = h.variances() > 0\n",
    "\n",
    "minimizer = iminuit.Minuit(loss, background=0, mu=91, gamma=4)\n",
    "\n",
    "minimizer.migrad()\n",
    "minimizer.hesse()\n",
    "\n",
    "(h * norm).plot()\n",
    "plt.plot(loss.x, f(loss.x, *minimizer.values))"
   ]
  },
  {
   "cell_type": "code",
   "execution_count": null,
   "id": "76ca51fc",
   "metadata": {},
   "outputs": [],
   "source": [
    "import zfit"
   ]
  },
  {
   "cell_type": "code",
   "execution_count": null,
   "id": "2de662cc",
   "metadata": {},
   "outputs": [],
   "source": [
    "binned_data = zfit.data.BinnedData.from_hist(h)\n",
    "\n",
    "binning = zfit.binned.RegularBinning(120, 60, 120, name=\"mass\")\n",
    "space = zfit.Space(\"mass\", binning=binning)\n",
    "\n",
    "background = zfit.Parameter(\"background\", 0)\n",
    "mu = zfit.Parameter(\"mu\", 91)\n",
    "gamma = zfit.Parameter(\"gamma\", 4)\n",
    "unbinned_model = zfit.pdf.SumPDF(\n",
    "    [zfit.pdf.Uniform(60, 120, space), zfit.pdf.Cauchy(mu, gamma, space)], [background]\n",
    ")\n",
    "\n",
    "model = zfit.pdf.BinnedFromUnbinnedPDF(unbinned_model, space)\n",
    "loss = zfit.loss.BinnedNLL(model, binned_data)\n",
    "\n",
    "minimizer = zfit.minimize.Minuit()\n",
    "result = minimizer.minimize(loss)\n",
    "\n",
    "binned_data.to_hist().plot(density=1)\n",
    "model.to_hist().plot(density=1)"
   ]
  },
  {
   "cell_type": "code",
   "execution_count": null,
   "id": "115518d3",
   "metadata": {},
   "outputs": [],
   "source": [
    "import vector\n",
    "import matplotlib.pyplot as plt\n",
    "from mpl_toolkits.mplot3d import Axes3D\n",
    "import numpy as np\n",
    "\n",
    "\n",
    "# Define two vectors\n",
    "one = vector.obj(px=1, py=0, pz=0)\n",
    "two = vector.obj(px=0, py=1, pz=1)\n",
    "\n",
    "# Perform vector addition\n",
    "result = one + two\n",
    "\n",
    "# Calculate deltaR (a measure of angular distance)\n",
    "delta_r = one.deltaR(two)\n",
    "\n",
    "# Convert to cylindrical coordinates (rho, phi, eta)\n",
    "one_rhophieta = one.to_rhophieta()\n",
    "two_rhophieta = two.to_rhophieta()\n",
    "\n",
    "\n",
    "\n",
    "# Print results\n",
    "print(\"Vector one in (px, py, pz):\", one)\n",
    "print(\"Vector two in (px, py, pz):\", two)\n",
    "print(\"Result of addition (px, py, pz):\", result)\n",
    "print(\"DeltaR between one and two:\", delta_r)\n",
    "print(\"Vector one in (rho, phi, eta):\", one_rhophieta)\n",
    "print(\"Vector two in (rho, phi, eta):\", two_rhophieta)\n",
    "\n",
    "fig = plt.figure(figsize=(12, 6))\n",
    "\n",
    "# Plot the vectors in Cartesian coordinates\n",
    "ax = fig.add_subplot(121, projection='3d')\n",
    "ax.quiver(0, 0, 0, one.px, one.py, one.pz, color='r', label='Vector one')\n",
    "ax.quiver(0, 0, 0, two.px, two.py, two.pz, color='b', label='Vector two')\n",
    "ax.quiver(0, 0, 0, result.px, result.py, result.pz, color='g', label='Result (one + two)')\n",
    "ax.set_xlim([-2, 2])\n",
    "ax.set_ylim([-2, 2])\n",
    "ax.set_zlim([-2, 2])\n",
    "ax.set_xlabel('Px')\n",
    "ax.set_ylabel('Py')\n",
    "ax.set_zlabel('Pz')\n",
    "ax.legend()\n",
    "ax.set_title('Vectors in Cartesian Coordinates')\n",
    "\n",
    "# Convert cylindrical coordinates to Cartesian for plotting\n",
    "one_cylindrical = (one_rhophieta.rho * np.cos(one_rhophieta.phi), \n",
    "                   one_rhophieta.rho * np.sin(one_rhophieta.phi), \n",
    "                   one_rhophieta.eta)\n",
    "two_cylindrical = (two_rhophieta.rho * np.cos(two_rhophieta.phi), \n",
    "                   two_rhophieta.rho * np.sin(two_rhophieta.phi), \n",
    "                   two_rhophieta.eta)\n",
    "\n",
    "# Plot the vectors in Cylindrical coordinates\n",
    "ax = fig.add_subplot(122, projection='3d')\n",
    "ax.quiver(0, 0, 0, *one_cylindrical, color='r', label='Vector one')\n",
    "ax.quiver(0, 0, 0, *two_cylindrical, color='b', label='Vector two')\n",
    "ax.set_xlim([-2, 2])\n",
    "ax.set_ylim([-2, 2])\n",
    "ax.set_zlim([-2, 2])\n",
    "ax.set_xlabel('Rho cos(Phi)')\n",
    "ax.set_ylabel('Rho sin(Phi)')\n",
    "ax.set_zlabel('Eta')\n",
    "ax.legend()\n",
    "ax.set_title('Vectors in Cylindrical Coordinates')\n",
    "\n",
    "# Add annotation for deltaR in the Cartesian plot\n",
    "midpoint = ((one.px + two.px) / 2, (one.py + two.py) / 2, (one.pz + two.pz) / 2)\n",
    "ax.text(midpoint[0], midpoint[1], midpoint[2], f'ΔR = {delta_r:.2f}', color='purple', fontsize=12, weight='bold')\n",
    "def plot_arc(ax, v1, v2, n_points=100):\n",
    "    angle = delta_r\n",
    "    t = np.linspace(0, angle, n_points)\n",
    "    axis = np.cross([v1.px, v1.py, v1.pz], [v2.px, v2.py, v2.pz])\n",
    "    axis = axis / np.linalg.norm(axis)\n",
    "    \n",
    "    arc = []\n",
    "    for ti in t:\n",
    "        R = rotation_matrix(axis, ti)\n",
    "        arc.append(R @ [v1.px, v1.py, v1.pz])\n",
    "    \n",
    "    arc = np.array(arc)\n",
    "    ax.plot(arc[:,0], arc[:,1], arc[:,2], 'purple', label='DeltaR Arc')\n",
    "\n",
    "def rotation_matrix(axis, theta):\n",
    "    axis = np.asarray(axis)\n",
    "    axis = axis / np.sqrt(np.dot(axis, axis))\n",
    "    a = np.cos(theta / 2.0)\n",
    "    b, c, d = -axis * np.sin(theta / 2.0)\n",
    "    aa, bb, cc, dd = a * a, b * b, c * c, d * d\n",
    "    bc, ad, ac, ab, bd, cd = b * c, a * d, a * c, a * b, b * d, c * d\n",
    "    return np.array([[aa + bb - cc - dd, 2 * (bc + ad), 2 * (bd - ac)],\n",
    "                     [2 * (bc - ad), aa + cc - bb - dd, 2 * (cd + ab)],\n",
    "                     [2 * (bd + ac), 2 * (cd - ab), aa + dd - bb - cc]])\n",
    "\n",
    "plot_arc(ax, one, two)\n",
    "plt.tight_layout()\n",
    "plt.show()"
   ]
  },
  {
   "cell_type": "code",
   "execution_count": null,
   "id": "fae2c9b1",
   "metadata": {},
   "outputs": [],
   "source": [
    "import skhep_testdata, uproot\n",
    "import awkward as ak\n",
    "import vector"
   ]
  },
  {
   "cell_type": "code",
   "execution_count": null,
   "id": "c9fd3f1a",
   "metadata": {},
   "outputs": [],
   "source": [
    "tree = uproot.open(skhep_testdata.data_path(\"uproot-Zmumu.root\"))[\"events\"]\n",
    "\n",
    "one = ak.to_numpy(tree.arrays(filter_name=[\"E1\", \"p[xyz]1\"]))\n",
    "two = ak.to_numpy(tree.arrays(filter_name=[\"E2\", \"p[xyz]2\"]))\n",
    "\n",
    "one.dtype.names = (\"E\", \"px\", \"py\", \"pz\")\n",
    "two.dtype.names = (\"E\", \"px\", \"py\", \"pz\")\n",
    "\n",
    "one = one.view(vector.MomentumNumpy4D)\n",
    "two = two.view(vector.MomentumNumpy4D)\n",
    "\n",
    "one + two"
   ]
  },
  {
   "cell_type": "code",
   "execution_count": null,
   "id": "a7d360d3",
   "metadata": {},
   "outputs": [],
   "source": [
    "one.deltaR(two)"
   ]
  },
  {
   "cell_type": "code",
   "execution_count": null,
   "id": "5d51cbe4",
   "metadata": {},
   "outputs": [],
   "source": [
    "one.to_rhophieta()"
   ]
  },
  {
   "cell_type": "code",
   "execution_count": null,
   "id": "769fa417",
   "metadata": {},
   "outputs": [],
   "source": [
    "two.to_rhophieta()"
   ]
  },
  {
   "cell_type": "code",
   "execution_count": null,
   "id": "d89948ed",
   "metadata": {},
   "outputs": [],
   "source": [
    "vector.register_awkward()"
   ]
  },
  {
   "cell_type": "code",
   "execution_count": null,
   "id": "5bd22ea8",
   "metadata": {},
   "outputs": [],
   "source": [
    "\n",
    "tree = uproot.open(skhep_testdata.data_path(\"uproot-HZZ.root\"))[\"events\"]\n",
    "\n",
    "array = tree.arrays(filter_name=[\"Muon_E\", \"Muon_P[xyz]\"])\n",
    "\n",
    "muons = ak.zip(\n",
    "    {\"px\": array.Muon_Px, \"py\": array.Muon_Py, \"pz\": array.Muon_Pz, \"E\": array.Muon_E},\n",
    "    with_name=\"Momentum4D\",\n",
    ")\n",
    "mu1, mu2 = ak.unzip(ak.combinations(muons, 2))\n",
    "\n",
    "mu1 + mu2"
   ]
  },
  {
   "cell_type": "code",
   "execution_count": null,
   "id": "10ff725a",
   "metadata": {},
   "outputs": [],
   "source": [
    "mu1.deltaR(mu2)"
   ]
  },
  {
   "cell_type": "code",
   "execution_count": null,
   "id": "c0e448d0",
   "metadata": {
    "lines_to_next_cell": 2
   },
   "outputs": [],
   "source": [
    "muons.to_rhophieta()"
   ]
  },
  {
   "cell_type": "code",
   "execution_count": null,
   "id": "7019d7b7",
   "metadata": {},
   "outputs": [],
   "source": [
    "import particle\n",
    "from hepunits import GeV"
   ]
  },
  {
   "cell_type": "code",
   "execution_count": null,
   "id": "8c119763",
   "metadata": {},
   "outputs": [],
   "source": [
    "particle.Particle.findall(\"pi\")"
   ]
  },
  {
   "cell_type": "code",
   "execution_count": null,
   "id": "01cca5bb",
   "metadata": {},
   "outputs": [],
   "source": [
    "z_boson = particle.Particle.from_name(\"Z0\")\n",
    "z_boson.mass / GeV, z_boson.width / GeV"
   ]
  },
  {
   "cell_type": "code",
   "execution_count": null,
   "id": "ef4ab523",
   "metadata": {},
   "outputs": [],
   "source": [
    "print(z_boson.describe())"
   ]
  },
  {
   "cell_type": "code",
   "execution_count": null,
   "id": "667143e7",
   "metadata": {},
   "outputs": [],
   "source": [
    "particle.Particle.from_pdgid(111)"
   ]
  },
  {
   "cell_type": "code",
   "execution_count": null,
   "id": "38d04977",
   "metadata": {},
   "outputs": [],
   "source": [
    "particle.Particle.findall(\n",
    "    lambda p: p.pdgid.is_meson and p.pdgid.has_strange and p.pdgid.has_charm\n",
    ")\n",
    "\n",
    "print(particle.PDGID(211).info())\n",
    "\n",
    "pdgid = particle.Corsika7ID(11).to_pdgid()\n",
    "particle.Particle.from_pdgid(pdgid)"
   ]
  },
  {
   "cell_type": "code",
   "execution_count": null,
   "id": "a74dea5f",
   "metadata": {},
   "outputs": [],
   "source": [
    "!pip install particle"
   ]
  },
  {
   "cell_type": "code",
   "execution_count": null,
   "id": "e847c51f",
   "metadata": {},
   "outputs": [],
   "source": [
    "import skhep_testdata, uproot\n",
    "import awkward as ak\n",
    "import particle\n",
    "from hepunits import GeV\n",
    "import vector"
   ]
  },
  {
   "cell_type": "code",
   "execution_count": null,
   "id": "1e4c8167",
   "metadata": {},
   "outputs": [],
   "source": [
    "vector.register_awkward()\n",
    "\n",
    "picodst = uproot.open(\n",
    "    \"https://pivarski-princeton.s3.amazonaws.com/pythia_ppZee_run17emb.picoDst.root:PicoDst\"\n",
    ")\n",
    "px, py, pz = ak.unzip(\n",
    "    picodst.arrays(filter_name=[\"Track/Track.mPMomentum[XYZ]\"], entry_stop=100)\n",
    ")\n",
    "\n",
    "probable_mass = particle.Particle.from_pdgid(211).mass / GeV\n",
    "\n",
    "pseudojets = ak.zip(\n",
    "    {\"px\": px, \"py\": py, \"pz\": pz, \"mass\": probable_mass}, with_name=\"Momentum4D\"\n",
    ")\n",
    "good_pseudojets = pseudojets[pseudojets.pt > 0.1]"
   ]
  },
  {
   "cell_type": "code",
   "execution_count": null,
   "id": "7cbfd838",
   "metadata": {},
   "outputs": [],
   "source": [
    "\n",
    "import fastjet"
   ]
  },
  {
   "cell_type": "code",
   "execution_count": null,
   "id": "17ee322c",
   "metadata": {},
   "outputs": [],
   "source": [
    "\n",
    "jetdef = fastjet.JetDefinition(fastjet.antikt_algorithm, 1.0)\n",
    "\n",
    "clusterseq = fastjet.ClusterSequence(good_pseudojets, jetdef)\n",
    "clusterseq.inclusive_jets()\n",
    "\n",
    "ak.num(good_pseudojets), ak.num(clusterseq.inclusive_jets())"
   ]
  }
 ],
 "metadata": {
  "jupytext": {
   "cell_metadata_filter": "-all",
   "main_language": "python",
   "notebook_metadata_filter": "-all"
  }
 },
 "nbformat": 4,
 "nbformat_minor": 5
}
